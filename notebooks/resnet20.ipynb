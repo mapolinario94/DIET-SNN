{
 "cells": [
  {
   "cell_type": "code",
   "execution_count": 1,
   "metadata": {
    "collapsed": true
   },
   "outputs": [],
   "source": [
    "import torch\n",
    "import torch.nn as nn"
   ]
  },
  {
   "cell_type": "code",
   "source": [
    "state = torch.load(\"../trained_models/snn/snn_resnet20_cifar10.pth\", map_location='cpu')\n",
    "print(state.keys())"
   ],
   "metadata": {
    "collapsed": false,
    "pycharm": {
     "name": "#%%\n"
    }
   },
   "execution_count": 3,
   "outputs": [
    {
     "name": "stdout",
     "output_type": "stream",
     "text": [
      "dict_keys(['accuracy', 'epoch', 'state_dict', 'optimizer', 'thresholds', 'timesteps', 'leak', 'activation'])\n"
     ]
    }
   ]
  },
  {
   "cell_type": "code",
   "execution_count": 8,
   "outputs": [
    {
     "name": "stdout",
     "output_type": "stream",
     "text": [
      "'module.pre_process.0.weight',\n",
      "'module.pre_process.3.weight',\n",
      "'module.pre_process.6.weight',\n",
      "'module.layer1.0.residual.0.weight',\n",
      "'module.layer1.0.residual.3.weight',\n",
      "'module.layer1.1.residual.0.weight',\n",
      "'module.layer1.1.residual.3.weight',\n",
      "'module.layer2.0.residual.0.weight',\n",
      "'module.layer2.0.residual.3.weight',\n",
      "'module.layer2.0.identity.0.weight',\n",
      "'module.layer2.1.residual.0.weight',\n",
      "'module.layer2.1.residual.3.weight',\n",
      "'module.layer3.0.residual.0.weight',\n",
      "'module.layer3.0.residual.3.weight',\n",
      "'module.layer3.0.identity.0.weight',\n",
      "'module.layer3.1.residual.0.weight',\n",
      "'module.layer3.1.residual.3.weight',\n",
      "'module.layer4.0.residual.0.weight',\n",
      "'module.layer4.0.residual.3.weight',\n",
      "'module.layer4.0.identity.0.weight',\n",
      "'module.layer4.1.residual.0.weight',\n",
      "'module.layer4.1.residual.3.weight',\n",
      "'module.classifier.0.weight',\n",
      "'module.threshold.t0',\n",
      "'module.threshold.t10',\n",
      "'module.threshold.t11',\n",
      "'module.threshold.t12',\n",
      "'module.threshold.t13',\n",
      "'module.threshold.t14',\n",
      "'module.threshold.t15',\n",
      "'module.threshold.t16',\n",
      "'module.threshold.t17',\n",
      "'module.threshold.t18',\n",
      "'module.threshold.t19',\n",
      "'module.threshold.t20',\n",
      "'module.threshold.t21',\n",
      "'module.threshold.t22',\n",
      "'module.threshold.t23',\n",
      "'module.threshold.t24',\n",
      "'module.threshold.t3',\n",
      "'module.threshold.t6',\n",
      "'module.threshold.t9',\n",
      "'module.leak.l0',\n",
      "'module.leak.l10',\n",
      "'module.leak.l11',\n",
      "'module.leak.l12',\n",
      "'module.leak.l13',\n",
      "'module.leak.l14',\n",
      "'module.leak.l15',\n",
      "'module.leak.l16',\n",
      "'module.leak.l17',\n",
      "'module.leak.l18',\n",
      "'module.leak.l19',\n",
      "'module.leak.l20',\n",
      "'module.leak.l21',\n",
      "'module.leak.l22',\n",
      "'module.leak.l23',\n",
      "'module.leak.l24',\n",
      "'module.leak.l3',\n",
      "'module.leak.l6',\n",
      "'module.leak.l9',\n"
     ]
    }
   ],
   "source": [
    "for param_name in state[\"state_dict\"].keys():\n",
    "\n",
    "    print(\"\\'{0}\\',\".format(param_name))"
   ],
   "metadata": {
    "collapsed": false,
    "pycharm": {
     "name": "#%%\n"
    }
   }
  },
  {
   "cell_type": "code",
   "execution_count": null,
   "outputs": [],
   "source": [],
   "metadata": {
    "collapsed": false,
    "pycharm": {
     "name": "#%%\n"
    }
   }
  }
 ],
 "metadata": {
  "kernelspec": {
   "display_name": "Python 3",
   "language": "python",
   "name": "python3"
  },
  "language_info": {
   "codemirror_mode": {
    "name": "ipython",
    "version": 2
   },
   "file_extension": ".py",
   "mimetype": "text/x-python",
   "name": "python",
   "nbconvert_exporter": "python",
   "pygments_lexer": "ipython2",
   "version": "2.7.6"
  }
 },
 "nbformat": 4,
 "nbformat_minor": 0
}